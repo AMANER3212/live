# Factorial Iterative
fact = 1
n = 5
for i in range(1, n+1):
    fact = fact * i
print(f"Iterative Factorial of {n}: {fact}")

# Factorial Recursive
def fact_recursive(n):
    if n == 0 or n == 1:
        return 1
    else:
        return n * fact_recursive(n - 1)

print(f"Recursive Factorial of {n}: {fact_recursive(n)}")

# Fibonacci Series Iterative
x, y = 0, 1
n = 5
print(f"
Fibonacci Series (first {n+1} terms):")
print(x)
for i in range(n):
    z = x + y
    print(z)
    x, y = y, z

# Fibonacci Recursive
def fib_recursive(n):
    if n == 0 or n == 1:
        return n
    else:
        return fib_recursive(n - 1) + fib_recursive(n - 2)

print(f"
Recursive Fibonacci at position {n}: {fib_recursive(n)}")

# Tower of Hanoi
def tower_of_hanoi(n, source, target, auxiliary):
    if n == 1:
        print(f"Move disk 1 from {source} to {target}")
        return
    tower_of_hanoi(n - 1, source, auxiliary, target)
    print(f"Move disk {n} from {source} to {target}")
    tower_of_hanoi(n - 1, auxiliary, target, source)

print("
Tower of Hanoi Moves for 3 disks:")
tower_of_hanoi(3, "A", "C", "B")



